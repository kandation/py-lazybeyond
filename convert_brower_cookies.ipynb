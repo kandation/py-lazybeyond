{
 "cells": [
  {
   "cell_type": "markdown",
   "source": [
    "# Browser Cookies Converter\n",
    "1. Login and press F12\n",
    "2. Take some course\n",
    "3. copy cookie value in header\n",
    "4. paste\n",
    "5. run all cell and goto run script rpa"
   ],
   "metadata": {
    "collapsed": false
   }
  },
  {
   "cell_type": "code",
   "execution_count": null,
   "outputs": [],
   "source": [
    "text = '''\n",
    "ASP.NET_SessionId=tbbhxxxxxxxxxxwuauy; G_ENABLED_IDPS=google; __AntiXsrfToken=66689xxxxxxxxxxxd652fb; .AspNet.AccessCookie=IVNxxxxxxxxxxxxxxxxBj2X4PQ==; .AspNet.ApplicationCookie=F0qhxxxxxxxx0hig\n",
    "'''"
   ],
   "metadata": {
    "collapsed": false
   }
  },
  {
   "cell_type": "code",
   "execution_count": null,
   "outputs": [],
   "source": [
    "import json"
   ],
   "metadata": {
    "collapsed": false
   }
  },
  {
   "cell_type": "code",
   "execution_count": null,
   "outputs": [],
   "source": [
    "from http import cookies\n",
    "C = cookies.SimpleCookie()\n",
    "C.load(text)\n",
    "\n",
    "temp_dic ={}\n",
    "items = C.items()\n",
    "for key, val in items:\n",
    "    temp_dic[key] = val.value\n",
    "\n",
    "with open('my/cookie.json', mode='w', encoding='utf8') as fo:\n",
    "    fo.write(json.dumps(temp_dic))\n",
    "\n",
    "print(temp_dic)"
   ],
   "metadata": {
    "collapsed": false
   }
  }
 ],
 "metadata": {
  "kernelspec": {
   "display_name": "Python 3",
   "language": "python",
   "name": "python3"
  },
  "language_info": {
   "codemirror_mode": {
    "name": "ipython",
    "version": 2
   },
   "file_extension": ".py",
   "mimetype": "text/x-python",
   "name": "python",
   "nbconvert_exporter": "python",
   "pygments_lexer": "ipython2",
   "version": "2.7.6"
  }
 },
 "nbformat": 4,
 "nbformat_minor": 0
}
